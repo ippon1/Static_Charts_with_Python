{
 "cells": [
  {
   "cell_type": "code",
   "execution_count": null,
   "metadata": {
    "collapsed": false,
    "jupyter": {
     "outputs_hidden": false
    },
    "pycharm": {
     "name": "#%%\n"
    }
   },
   "outputs": [],
   "source": [
    "!python --version"
   ]
  },
  {
   "cell_type": "code",
   "execution_count": null,
   "metadata": {
    "collapsed": false,
    "jupyter": {
     "outputs_hidden": false
    },
    "pycharm": {
     "name": "#%% Importer\n"
    }
   },
   "outputs": [],
   "source": [
    "import os.path\n",
    "import shutil\n",
    "import urllib.request as request\n",
    "from contextlib import closing\n",
    "from pandas import DataFrame, read_csv\n",
    "import pandas as pd "
   ]
  },
  {
   "cell_type": "code",
   "execution_count": null,
   "metadata": {
    "collapsed": false,
    "jupyter": {
     "outputs_hidden": false
    },
    "pycharm": {
     "name": "#%%\n"
    }
   },
   "outputs": [],
   "source": [
    "# Source: https://www.data.gv.at/katalog/dataset/f3a1c18ea3a038fa13e7b3c89454ed280d16ef0c\n",
    "file_url = \"http://data.ooe.gv.at/files/cms/Mediendateien/OGD/ogd_abtStat/\"\n",
    "file_name_prefix = \"stat_download_nr\"\n",
    "file_name_pstfix = \".xls\"\n",
    "file_local_location = \"./\"\n",
    "file_save_prefix = \"NRW_OOE_\"\n",
    "file_save_pstfix = \".tsv\""
   ]
  },
  {
   "cell_type": "code",
   "execution_count": null,
   "metadata": {
    "collapsed": false,
    "jupyter": {
     "outputs_hidden": false
    },
    "pycharm": {
     "name": "#%% Download Dataset\n"
    }
   },
   "outputs": [],
   "source": [
    "def download_dataset(year, file_index):\n",
    "    current_file_name = file_name_prefix + file_index + file_name_pstfix\n",
    "    file_store_url = file_local_location + current_file_name\n",
    "    final_URL = file_url + current_file_name\n",
    "    \n",
    "    if os.path.isfile(file_store_url):\n",
    "        print(file_store_url)\n",
    "        return file_store_url\n",
    "    print(final_URL)\n",
    "    with closing(request.urlopen(final_URL)) as r:\n",
    "        with open(file_store_url, 'wb') as f:\n",
    "            shutil.copyfileobj(r, f)\n",
    "            print(final_URL)\n",
    "            return file_store_url"
   ]
  },
  {
   "cell_type": "code",
   "execution_count": null,
   "metadata": {
    "collapsed": false,
    "jupyter": {
     "outputs_hidden": false
    },
    "pycharm": {
     "name": "#%%\n"
    }
   },
   "outputs": [],
   "source": [
    "def reformat_file(current_file_url, year):\n",
    "    formated_data = {}\n",
    "    if int(year) < 2017:\n",
    "        df = pd.read_excel(current_file_url, \"Stimmen\", header=2)[1:]\n",
    "    else: \n",
    "        df = pd.read_excel(current_file_url, \"Stimmen\", header=1)[1:]\n",
    "    df = df[df.columns.drop(list(df.filter(regex='Unnamed')))]\n",
    "    df = df[df.columns.drop(list(df.filter(regex='Eingabe')))]\n",
    "    del df[\"Wahlbet.\"]\n",
    "    df.rename(columns={'Nr.':'GKZ','Name':'Gebietsname','Wahlbe-':'Wahlberechtigte','abgegeb.':'Abgegebene','ungültige':'Ungültige','gültige':'Gültige'}, inplace=True)\n",
    "\n",
    "    #print(df.head())\n",
    "    return df"
   ]
  },
  {
   "cell_type": "code",
   "execution_count": null,
   "metadata": {
    "collapsed": false,
    "jupyter": {
     "outputs_hidden": false
    },
    "pycharm": {
     "name": "#%%\n"
    }
   },
   "outputs": [],
   "source": [
    "## main\n",
    "number_of_files = {\"2002\":\"02\",\"2006\": \"06\", \"2008\":\"08\",\"2013\":\"13\",\"2017\":\"17\",\"2019\":\"19\"}\n",
    "for year in number_of_files:\n",
    "    current_file_url = download_dataset(year, number_of_files[year])\n",
    "    corrected_df = reformat_file(current_file_url, year)\n",
    "    corrected_df.to_csv(file_save_prefix + str(year) + file_save_pstfix, sep=\"\\t\")\n"
   ]
  }
 ],
 "metadata": {
  "kernelspec": {
   "display_name": "Python 3",
   "language": "python",
   "name": "python3"
  },
  "language_info": {
   "codemirror_mode": {
    "name": "ipython",
    "version": 3
   },
   "file_extension": ".py",
   "mimetype": "text/x-python",
   "name": "python",
   "nbconvert_exporter": "python",
   "pygments_lexer": "ipython3",
   "version": "3.8.3"
  }
 },
 "nbformat": 4,
 "nbformat_minor": 4
}
