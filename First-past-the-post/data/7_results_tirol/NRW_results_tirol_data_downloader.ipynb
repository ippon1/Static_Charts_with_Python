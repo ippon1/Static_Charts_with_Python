{
 "cells": [
  {
   "cell_type": "code",
   "execution_count": null,
   "metadata": {
    "collapsed": false,
    "jupyter": {
     "outputs_hidden": false
    },
    "pycharm": {
     "name": "#%%\n"
    }
   },
   "outputs": [],
   "source": [
    "!python --version"
   ]
  },
  {
   "cell_type": "code",
   "execution_count": null,
   "metadata": {
    "collapsed": false,
    "jupyter": {
     "outputs_hidden": false
    },
    "pycharm": {
     "name": "#%% Installer\n"
    }
   },
   "outputs": [],
   "source": [
    "!pip install beautifulsoup4;\n",
    "!pip install html5lib;\n",
    "!pip install lxml;\n",
    "# TODO pip added"
   ]
  },
  {
   "cell_type": "code",
   "execution_count": null,
   "metadata": {
    "collapsed": false,
    "jupyter": {
     "outputs_hidden": false
    },
    "pycharm": {
     "name": "#%% Importer\n"
    }
   },
   "outputs": [],
   "source": [
    "import os.path\n",
    "import shutil\n",
    "import urllib.request as request\n",
    "from contextlib import closing\n",
    "from bs4 import BeautifulSoup"
   ]
  },
  {
   "cell_type": "code",
   "execution_count": null,
   "metadata": {
    "collapsed": false,
    "jupyter": {
     "outputs_hidden": false
    },
    "pycharm": {
     "name": "#%%\n"
    }
   },
   "outputs": [],
   "source": [
    "# Source: https://www.data.gv.at/katalog/dataset/f3a1c18ea3a038fa13e7b3c89454ed280d16ef0c\n",
    "file_url = \"https://wahlen.tirol.gv.at/nationalratswahl_\" # + \"/dokumente/\"\n",
    "file_name_prefix = \"wahl\"\n",
    "file_name_pstfix = \".csv\"\n",
    "file_local_location = \"./\"\n",
    "file_save_pstfix = \".tsv\""
   ]
  },
  {
   "cell_type": "code",
   "execution_count": null,
   "metadata": {
    "collapsed": false,
    "jupyter": {
     "outputs_hidden": false
    },
    "pycharm": {
     "name": "#%% Download Dataset\n"
    }
   },
   "outputs": [],
   "source": [
    "def download_dataset(year, file_name):\n",
    "    current_file_name = file_name_prefix + file_name + file_name_pstfix\n",
    "    file_store_url = file_local_location + current_file_name\n",
    "    final_URL = file_url + year + \"/dokumente/\" + current_file_name\n",
    "    \n",
    "    if os.path.isfile(file_store_url):\n",
    "        print(file_store_url)\n",
    "        return file_store_url\n",
    "\n",
    "    with closing(request.urlopen(final_URL)) as r:\n",
    "        with open(file_store_url, 'wb') as f:\n",
    "            shutil.copyfileobj(r, f)\n",
    "            print(final_URL)\n",
    "            return file_store_url"
   ]
  },
  {
   "cell_type": "code",
   "execution_count": null,
   "metadata": {
    "collapsed": false,
    "jupyter": {
     "outputs_hidden": false
    },
    "pycharm": {
     "name": "#%%\n"
    }
   },
   "outputs": [],
   "source": [
    "def reformat_file(current_file_url):\n",
    "    formated_data = {}\n",
    "    with open(current_file_url, 'r', encoding=\"latin-1\") as file:\n",
    "        content = file.read()\n",
    "        for region in content.split(\"\\n\")[2:]:\n",
    "            current_values = region.split(\";\")\n",
    "            if (len(current_values) > 13): # Has trailing empty line\n",
    "                formated_data[current_values[2]] = {\"Bezirk_Id\":current_values[0]}            \n",
    "                formated_data[current_values[2]][\"Bezirk\"] = current_values[1]\n",
    "                formated_data[current_values[2]][\"Gemeinde_Id\"] = current_values[2]\n",
    "                formated_data[current_values[2]][\"Gemeinde\"] = current_values[3]\n",
    "                formated_data[current_values[2]][\"Wahlberechtigte_maennlich\"] = current_values[4]\n",
    "                formated_data[current_values[2]][\"Wahlberechtigte_weiblich\"] = current_values[5]\n",
    "                formated_data[current_values[2]][\"Auslandsoesterreicher_Wahlberechtigte_maennlich\"] = current_values[6]\n",
    "                formated_data[current_values[2]][\"Auslandsoesterreicher_Wahlberechtigte_weiblich\"] = current_values[7]\n",
    "                formated_data[current_values[2]][\"Wahlberechtigte_gesamt\"] = current_values[8]\n",
    "                formated_data[current_values[2]][\"Abgegebene_Stimmen\"] = current_values[9]\n",
    "                formated_data[current_values[2]][\"Wahlbeteiligung\"] = current_values[10]\n",
    "                formated_data[current_values[2]][\"Gueltige_Stimmen\"] = current_values[11]\n",
    "                formated_data[current_values[2]][\"Ungueltige_Stimmen\"] = current_values[12]\n",
    "                formated_data[current_values[2]][\"Parteien\"] = {\"ÖVP\": 0}\n",
    "                index = 0\n",
    "                current_party = \"\"\n",
    "                for v in current_values[13:]:\n",
    "                    if index%4 == 1:\n",
    "                        current_party = v\n",
    "                        if current_party not in current_parties:\n",
    "                            current_parties.append(current_party)\n",
    "                    if index%4 == 2:\n",
    "                        formated_data[current_values[2]][\"Parteien\"][current_party] = v\n",
    "                    index += 1                \n",
    "        return formated_data"
   ]
  },
  {
   "cell_type": "code",
   "execution_count": null,
   "metadata": {
    "collapsed": false,
    "jupyter": {
     "outputs_hidden": false
    },
    "pycharm": {
     "name": "#%%\n"
    }
   },
   "outputs": [],
   "source": [
    "## main\n",
    "number_of_files = {\n",
    "    \"1994\":\"6\",\"1995\":\"7\",\"1999\":\"8\",\"2002\":\"10\",\"2006\": \"18\",\n",
    "    \"2008\":\"21\",\"2013\":\"39\",\"2017\":\"51\",\"2019\":\"56\"}\n",
    "for i in number_of_files:\n",
    "    \n",
    "    content = \"GKZ\\tGebietsname\\tWahlberechtigte\\tAbgegebene\\tUngültige\\tGültige\" # tab as split string\n",
    "    current_file_url = download_dataset(i, number_of_files[i])\n",
    "    current_parties = [\"ÖVP\", \"SPÖ\", \"FPÖ\"] \n",
    "    structured_content = reformat_file(current_file_url)\n",
    "    for party in current_parties:\n",
    "        content += \"\\t\" + party\n",
    "    content += \"\\n\"\n",
    "    for a in structured_content:\n",
    "        content += \"G\" + structured_content[a][\"Gemeinde_Id\"] + \"\\t\" + structured_content[a][\"Gemeinde\"] + \"\\t\" +  structured_content[a][\"Wahlberechtigte_gesamt\"] + \"\\t\" + structured_content[a][\"Abgegebene_Stimmen\"] + \"\\t\" + structured_content[a][\"Ungueltige_Stimmen\"] + \"\\t\" + structured_content[a][\"Gueltige_Stimmen\"]\n",
    "        for party in current_parties:\n",
    "            if (structured_content[a][\"Parteien\"][party] is None or party not in list(structured_content[a][\"Parteien\"].keys())):\n",
    "                content += \"\\t0\" # structured_content[\"70219\"][\"Parteien\"]\n",
    "                print(party)\n",
    "            else:\n",
    "                content += \"\\t\" + structured_content[a][\"Parteien\"][party]\n",
    "        content += \"\\n\"\n",
    "    with open(file_local_location + \"NRW_Tirol_\" + str(i) + file_save_pstfix, \"w\") as text_file:\n",
    "        text_file.write(content)"
   ]
  },
  {
   "cell_type": "code",
   "execution_count": null,
   "metadata": {},
   "outputs": [],
   "source": []
  },
  {
   "cell_type": "code",
   "execution_count": null,
   "metadata": {},
   "outputs": [],
   "source": []
  }
 ],
 "metadata": {
  "kernelspec": {
   "display_name": "Python 3",
   "language": "python",
   "name": "python3"
  },
  "language_info": {
   "codemirror_mode": {
    "name": "ipython",
    "version": 3
   },
   "file_extension": ".py",
   "mimetype": "text/x-python",
   "name": "python",
   "nbconvert_exporter": "python",
   "pygments_lexer": "ipython3",
   "version": "3.8.3"
  }
 },
 "nbformat": 4,
 "nbformat_minor": 4
}
