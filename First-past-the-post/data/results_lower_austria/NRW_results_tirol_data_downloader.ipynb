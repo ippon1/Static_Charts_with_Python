{
 "cells": [
  {
   "cell_type": "code",
   "execution_count": null,
   "metadata": {
    "collapsed": false,
    "jupyter": {
     "outputs_hidden": false
    },
    "pycharm": {
     "name": "#%%\n"
    }
   },
   "outputs": [],
   "source": [
    "!python --version"
   ]
  },
  {
   "cell_type": "code",
   "execution_count": null,
   "metadata": {
    "collapsed": false,
    "jupyter": {
     "outputs_hidden": false
    },
    "pycharm": {
     "name": "#%% Installer\n"
    }
   },
   "outputs": [],
   "source": [
    "!pip install beautifulsoup4;\n",
    "!pip install html5lib;\n",
    "!pip install lxml;\n",
    "# TODO pip added"
   ]
  },
  {
   "cell_type": "code",
   "execution_count": 14,
   "metadata": {
    "collapsed": false,
    "jupyter": {
     "outputs_hidden": false
    },
    "pycharm": {
     "name": "#%% Importer\n"
    }
   },
   "outputs": [],
   "source": [
    "import os.path\n",
    "import shutil\n",
    "import urllib.request as request\n",
    "from contextlib import closing\n",
    "from bs4 import BeautifulSoup\n",
    "from pandas import DataFrame, read_csv\n",
    "import pandas as pd "
   ]
  },
  {
   "cell_type": "code",
   "execution_count": 2,
   "metadata": {
    "collapsed": false,
    "jupyter": {
     "outputs_hidden": false
    },
    "pycharm": {
     "name": "#%%\n"
    }
   },
   "outputs": [],
   "source": [
    "# Source: https://www.data.gv.at/katalog/dataset/f3a1c18ea3a038fa13e7b3c89454ed280d16ef0c\n",
    "file_url = \"http://data.ooe.gv.at/files/cms/Mediendateien/OGD/ogd_abtStat/\"\n",
    "file_name_prefix = \"stat_download_nr\"\n",
    "file_name_pstfix = \".xls\"\n",
    "file_local_location = \"./\"\n",
    "file_save_pstfix = \".tsv\""
   ]
  },
  {
   "cell_type": "code",
   "execution_count": 10,
   "metadata": {
    "collapsed": false,
    "jupyter": {
     "outputs_hidden": false
    },
    "pycharm": {
     "name": "#%% Download Dataset\n"
    }
   },
   "outputs": [],
   "source": [
    "def download_dataset(year, file_index):\n",
    "    current_file_name = file_name_prefix + file_index + file_name_pstfix\n",
    "    file_store_url = file_local_location + current_file_name\n",
    "    final_URL = file_url + current_file_name\n",
    "    \n",
    "    if os.path.isfile(file_store_url):\n",
    "        print(file_store_url)\n",
    "        return file_store_url\n",
    "    print(final_URL)\n",
    "    with closing(request.urlopen(final_URL)) as r:\n",
    "        with open(file_store_url, 'wb') as f:\n",
    "            shutil.copyfileobj(r, f)\n",
    "            print(final_URL)\n",
    "            return file_store_url"
   ]
  },
  {
   "cell_type": "code",
   "execution_count": 27,
   "metadata": {
    "collapsed": false,
    "jupyter": {
     "outputs_hidden": false
    },
    "pycharm": {
     "name": "#%%\n"
    }
   },
   "outputs": [],
   "source": [
    "def reformat_file(current_file_url, year):\n",
    "    formated_data = {}\n",
    "    if int(year) < 17:\n",
    "        df = pd.read_excel(current_file_url, header=1)\n",
    "    else: \n",
    "        df = pd.read_excel(current_file_url, header=1)\n",
    "    print(df.head())"
   ]
  },
  {
   "cell_type": "code",
   "execution_count": 28,
   "metadata": {
    "collapsed": false,
    "jupyter": {
     "outputs_hidden": false
    },
    "pycharm": {
     "name": "#%%\n"
    }
   },
   "outputs": [
    {
     "name": "stdout",
     "output_type": "stream",
     "text": [
      "./stat_download_nr02.xls\n",
      "  Unnamed: 0                                Unnamed: 1 Unnamed: 2 Unnamed: 3  \\\n",
      "0        Nr.                                      Name    Wahlbe-   abgegeb.   \n",
      "1        NaN                                       NaN  rechtigte    Stimmen   \n",
      "2      40000       Land Oberösterreich                    1005882     868461   \n",
      "3      4A000  Wahlkreis Linz und Umgebung                  230461     192804   \n",
      "4      4A099            Wahlkarten Linz und Umgebung          NaN       9061   \n",
      "\n",
      "  Unnamed: 4 Unnamed: 5 Unnamed: 6 Unnamed: 7 Unnamed: 8 Unnamed: 9  ...  \\\n",
      "0   Wahlbet.  ungültige        NaN    gültige        NaN        SPÖ  ...   \n",
      "1       in %    Stimmen       in %    Stimmen       in %    Stimmen  ...   \n",
      "2      86.34      14896       1.72     853565      98.28     316009  ...   \n",
      "3      83.66       2636       1.37     190168      98.63      86490  ...   \n",
      "4        NaN         71       0.78       8990      99.22       2709  ...   \n",
      "\n",
      "  Unnamed: 15 Unnamed: 16 Unnamed: 17 Unnamed: 18 Unnamed: 19 Unnamed: 20  \\\n",
      "0       GRÜNE         NaN         KPÖ         NaN         LIF         NaN   \n",
      "1     Stimmen      Ant. %     Stimmen      Ant. %     Stimmen      Ant. %   \n",
      "2       74043        8.67        3979        0.47        7247        0.85   \n",
      "3       20932       11.01         974        0.51        2099         1.1   \n",
      "4        2023        22.5          32        0.36         104        1.16   \n",
      "\n",
      "     Unnamed: 21 Unnamed: 22     Unnamed: 23 Unnamed: 24  \n",
      "0  erste Eingabe         NaN  letzte Eingabe         NaN  \n",
      "1          Datum        Zeit           Datum        Zeit  \n",
      "2       24.11.02    19:01:46        02.12.02    19:08:34  \n",
      "3       24.11.02    19:01:46        02.12.02    19:05:05  \n",
      "4       02.12.02    19:05:05        02.12.02    19:05:05  \n",
      "\n",
      "[5 rows x 25 columns]\n"
     ]
    },
    {
     "ename": "NameError",
     "evalue": "name 'current_parties' is not defined",
     "output_type": "error",
     "traceback": [
      "\u001b[0;31m---------------------------------------------------------------------------\u001b[0m",
      "\u001b[0;31mNameError\u001b[0m                                 Traceback (most recent call last)",
      "\u001b[0;32m<ipython-input-28-bd9772a12811>\u001b[0m in \u001b[0;36m<module>\u001b[0;34m\u001b[0m\n\u001b[1;32m      6\u001b[0m     \u001b[0mcurrent_file_url\u001b[0m \u001b[0;34m=\u001b[0m \u001b[0mdownload_dataset\u001b[0m\u001b[0;34m(\u001b[0m\u001b[0mi\u001b[0m\u001b[0;34m,\u001b[0m \u001b[0mnumber_of_files\u001b[0m\u001b[0;34m[\u001b[0m\u001b[0mi\u001b[0m\u001b[0;34m]\u001b[0m\u001b[0;34m)\u001b[0m\u001b[0;34m\u001b[0m\u001b[0;34m\u001b[0m\u001b[0m\n\u001b[1;32m      7\u001b[0m     \u001b[0mstructured_content\u001b[0m \u001b[0;34m=\u001b[0m \u001b[0mreformat_file\u001b[0m\u001b[0;34m(\u001b[0m\u001b[0mcurrent_file_url\u001b[0m\u001b[0;34m)\u001b[0m\u001b[0;34m\u001b[0m\u001b[0;34m\u001b[0m\u001b[0m\n\u001b[0;32m----> 8\u001b[0;31m     \u001b[0;32mfor\u001b[0m \u001b[0mparty\u001b[0m \u001b[0;32min\u001b[0m \u001b[0mcurrent_parties\u001b[0m\u001b[0;34m:\u001b[0m\u001b[0;34m\u001b[0m\u001b[0;34m\u001b[0m\u001b[0m\n\u001b[0m\u001b[1;32m      9\u001b[0m         \u001b[0mcontent\u001b[0m \u001b[0;34m+=\u001b[0m \u001b[0;34m\"\\t\"\u001b[0m \u001b[0;34m+\u001b[0m \u001b[0mparty\u001b[0m\u001b[0;34m\u001b[0m\u001b[0;34m\u001b[0m\u001b[0m\n\u001b[1;32m     10\u001b[0m     \u001b[0mcontent\u001b[0m \u001b[0;34m+=\u001b[0m \u001b[0;34m\"\\n\"\u001b[0m\u001b[0;34m\u001b[0m\u001b[0;34m\u001b[0m\u001b[0m\n",
      "\u001b[0;31mNameError\u001b[0m: name 'current_parties' is not defined"
     ]
    }
   ],
   "source": [
    "## main\n",
    "number_of_files = {\"2002\":\"02\",\"2006\": \"06\", \"2008\":\"08\",\"2013\":\"13\",\"2017\":\"17\",\"2019\":\"19\"}\n",
    "for year in number_of_files:\n",
    "    \n",
    "    content = \"GKZ\\tGebietsname\\tWahlberechtigte\\tAbgegebene\\tUngültige\\tGültige\" # tab as split string\n",
    "    current_file_url = download_dataset(year, number_of_files[year])\n",
    "    structured_content = reformat_file(current_file_url, year)\n",
    "    for party in current_parties:\n",
    "        content += \"\\t\" + party\n",
    "    content += \"\\n\"\n"
   ]
  },
  {
   "cell_type": "code",
   "execution_count": 21,
   "metadata": {},
   "outputs": [
    {
     "ename": "TypeError",
     "evalue": "'NoneType' object is not iterable",
     "output_type": "error",
     "traceback": [
      "\u001b[0;31m---------------------------------------------------------------------------\u001b[0m",
      "\u001b[0;31mTypeError\u001b[0m                                 Traceback (most recent call last)",
      "\u001b[0;32m<ipython-input-21-2eab485fe88f>\u001b[0m in \u001b[0;36m<module>\u001b[0;34m\u001b[0m\n\u001b[0;32m----> 1\u001b[0;31m \u001b[0;32mfor\u001b[0m \u001b[0ma\u001b[0m \u001b[0;32min\u001b[0m \u001b[0mstructured_content\u001b[0m\u001b[0;34m:\u001b[0m\u001b[0;34m\u001b[0m\u001b[0;34m\u001b[0m\u001b[0m\n\u001b[0m\u001b[1;32m      2\u001b[0m     \u001b[0mcontent\u001b[0m \u001b[0;34m+=\u001b[0m \u001b[0;34m\"G\"\u001b[0m \u001b[0;34m+\u001b[0m \u001b[0mstructured_content\u001b[0m\u001b[0;34m[\u001b[0m\u001b[0ma\u001b[0m\u001b[0;34m]\u001b[0m\u001b[0;34m[\u001b[0m\u001b[0;34m\"Gemeinde_Id\"\u001b[0m\u001b[0;34m]\u001b[0m \u001b[0;34m+\u001b[0m \u001b[0;34m\"\\t\"\u001b[0m \u001b[0;34m+\u001b[0m \u001b[0mstructured_content\u001b[0m\u001b[0;34m[\u001b[0m\u001b[0ma\u001b[0m\u001b[0;34m]\u001b[0m\u001b[0;34m[\u001b[0m\u001b[0;34m\"Gemeinde\"\u001b[0m\u001b[0;34m]\u001b[0m \u001b[0;34m+\u001b[0m \u001b[0;34m\"\\t\"\u001b[0m \u001b[0;34m+\u001b[0m  \u001b[0mstructured_content\u001b[0m\u001b[0;34m[\u001b[0m\u001b[0ma\u001b[0m\u001b[0;34m]\u001b[0m\u001b[0;34m[\u001b[0m\u001b[0;34m\"Wahlberechtigte_gesamt\"\u001b[0m\u001b[0;34m]\u001b[0m \u001b[0;34m+\u001b[0m \u001b[0;34m\"\\t\"\u001b[0m \u001b[0;34m+\u001b[0m \u001b[0mstructured_content\u001b[0m\u001b[0;34m[\u001b[0m\u001b[0ma\u001b[0m\u001b[0;34m]\u001b[0m\u001b[0;34m[\u001b[0m\u001b[0;34m\"Abgegebene_Stimmen\"\u001b[0m\u001b[0;34m]\u001b[0m \u001b[0;34m+\u001b[0m \u001b[0;34m\"\\t\"\u001b[0m \u001b[0;34m+\u001b[0m \u001b[0mstructured_content\u001b[0m\u001b[0;34m[\u001b[0m\u001b[0ma\u001b[0m\u001b[0;34m]\u001b[0m\u001b[0;34m[\u001b[0m\u001b[0;34m\"Ungueltige_Stimmen\"\u001b[0m\u001b[0;34m]\u001b[0m \u001b[0;34m+\u001b[0m \u001b[0;34m\"\\t\"\u001b[0m \u001b[0;34m+\u001b[0m \u001b[0mstructured_content\u001b[0m\u001b[0;34m[\u001b[0m\u001b[0ma\u001b[0m\u001b[0;34m]\u001b[0m\u001b[0;34m[\u001b[0m\u001b[0;34m\"Gueltige_Stimmen\"\u001b[0m\u001b[0;34m]\u001b[0m\u001b[0;34m\u001b[0m\u001b[0;34m\u001b[0m\u001b[0m\n\u001b[1;32m      3\u001b[0m     \u001b[0;32mfor\u001b[0m \u001b[0mparty\u001b[0m \u001b[0;32min\u001b[0m \u001b[0mcurrent_parties\u001b[0m\u001b[0;34m:\u001b[0m\u001b[0;34m\u001b[0m\u001b[0;34m\u001b[0m\u001b[0m\n\u001b[1;32m      4\u001b[0m         \u001b[0;32mif\u001b[0m \u001b[0;34m(\u001b[0m\u001b[0mstructured_content\u001b[0m\u001b[0;34m[\u001b[0m\u001b[0ma\u001b[0m\u001b[0;34m]\u001b[0m\u001b[0;34m[\u001b[0m\u001b[0;34m\"Parteien\"\u001b[0m\u001b[0;34m]\u001b[0m\u001b[0;34m[\u001b[0m\u001b[0mparty\u001b[0m\u001b[0;34m]\u001b[0m \u001b[0;32mis\u001b[0m \u001b[0;32mNone\u001b[0m \u001b[0;32mor\u001b[0m \u001b[0mparty\u001b[0m \u001b[0;32mnot\u001b[0m \u001b[0;32min\u001b[0m \u001b[0mlist\u001b[0m\u001b[0;34m(\u001b[0m\u001b[0mstructured_content\u001b[0m\u001b[0;34m[\u001b[0m\u001b[0ma\u001b[0m\u001b[0;34m]\u001b[0m\u001b[0;34m[\u001b[0m\u001b[0;34m\"Parteien\"\u001b[0m\u001b[0;34m]\u001b[0m\u001b[0;34m.\u001b[0m\u001b[0mkeys\u001b[0m\u001b[0;34m(\u001b[0m\u001b[0;34m)\u001b[0m\u001b[0;34m)\u001b[0m\u001b[0;34m)\u001b[0m\u001b[0;34m:\u001b[0m\u001b[0;34m\u001b[0m\u001b[0;34m\u001b[0m\u001b[0m\n\u001b[1;32m      5\u001b[0m             \u001b[0mcontent\u001b[0m \u001b[0;34m+=\u001b[0m \u001b[0;34m\"\\t0\"\u001b[0m \u001b[0;31m# structured_content[\"70219\"][\"Parteien\"]\u001b[0m\u001b[0;34m\u001b[0m\u001b[0;34m\u001b[0m\u001b[0m\n",
      "\u001b[0;31mTypeError\u001b[0m: 'NoneType' object is not iterable"
     ]
    }
   ],
   "source": [
    "    for a in structured_content:\n",
    "        content += \"G\" + structured_content[a][\"Gemeinde_Id\"] + \"\\t\" + structured_content[a][\"Gemeinde\"] + \"\\t\" +  structured_content[a][\"Wahlberechtigte_gesamt\"] + \"\\t\" + structured_content[a][\"Abgegebene_Stimmen\"] + \"\\t\" + structured_content[a][\"Ungueltige_Stimmen\"] + \"\\t\" + structured_content[a][\"Gueltige_Stimmen\"]\n",
    "        for party in current_parties:\n",
    "            if (structured_content[a][\"Parteien\"][party] is None or party not in list(structured_content[a][\"Parteien\"].keys())):\n",
    "                content += \"\\t0\" # structured_content[\"70219\"][\"Parteien\"]\n",
    "                print(party)\n",
    "            else:\n",
    "                content += \"\\t\" + structured_content[a][\"Parteien\"][party]\n",
    "        content += \"\\n\"\n",
    "    with open(file_local_location + \"NRW_lower_austria_\" + str(i) + file_save_pstfix, \"w\") as text_file:\n",
    "        text_file.write(content)\n"
   ]
  },
  {
   "cell_type": "code",
   "execution_count": null,
   "metadata": {},
   "outputs": [],
   "source": []
  }
 ],
 "metadata": {
  "kernelspec": {
   "display_name": "Python 3",
   "language": "python",
   "name": "python3"
  },
  "language_info": {
   "codemirror_mode": {
    "name": "ipython",
    "version": 3
   },
   "file_extension": ".py",
   "mimetype": "text/x-python",
   "name": "python",
   "nbconvert_exporter": "python",
   "pygments_lexer": "ipython3",
   "version": "3.8.3"
  }
 },
 "nbformat": 4,
 "nbformat_minor": 4
}
